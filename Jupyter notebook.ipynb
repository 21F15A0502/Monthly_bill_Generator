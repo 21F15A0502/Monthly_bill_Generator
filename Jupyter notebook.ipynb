{
 "cells": [
  {
   "cell_type": "code",
   "execution_count": 1,
   "id": "64daa639-3861-49d6-a612-d15ad07f5616",
   "metadata": {},
   "outputs": [],
   "source": [
    "from datetime import datetime, timedelta\n",
    "from collections import defaultdict"
   ]
  },
  {
   "cell_type": "code",
   "execution_count": 7,
   "id": "d94dbf6e-8be8-4313-ba78-20763529924a",
   "metadata": {},
   "outputs": [
    {
     "name": "stdout",
     "output_type": "stream",
     "text": [
      " Monthly Billing Summary:\n",
      "{'item_code': 'Executive Desk (4*2)', 'rate': 1080.0, 'qty': 5, 'amount': 3780.0, 'billing_period': '2024-11-10 to 2024-11-30'}\n",
      "{'item_code': 'Executive Desk (4*2)', 'rate': 1080.0, 'qty': 10, 'amount': 10800.0, 'billing_period': '2024-11-01 to 2024-11-30'}\n",
      "{'item_code': 'Chair', 'rate': 200.0, 'qty': 15, 'amount': 1500.0, 'billing_period': '2024-11-01 to 2024-11-15'}\n",
      "\n",
      " Total Revenue: 16080.0\n"
     ]
    }
   ],
   "source": [
    "def parse_date(date_str):\n",
    "    return datetime.strptime(date_str, \"%Y-%m-%d\")\n",
    "data = [\n",
    "    {\n",
    "        \"item_code\": \"Executive Desk (4*2)\",\n",
    "        \"rate\": \"1080.0\",\n",
    "        \"qty\": \"5\",\n",
    "        \"start_date\": \"2024-11-10\",\n",
    "        \"stop_date\": \"2024-11-30\"\n",
    "    },\n",
    "    {\n",
    "        \"item_code\": \"Executive Desk (4*2)\",\n",
    "        \"rate\": \"1080.0\",\n",
    "        \"qty\": \"10\",\n",
    "        \"start_date\": \"2024-11-01\",\n",
    "        \"stop_date\": \"2024-11-30\"\n",
    "    },\n",
    "    {\n",
    "        \"item_code\": \"Chair\",\n",
    "        \"rate\": \"200.0\",\n",
    "        \"qty\": \"15\",\n",
    "        \"start_date\": \"2024-10-20\",\n",
    "        \"stop_date\": \"2024-11-15\"\n",
    "    }\n",
    "]\n",
    "def generate_monthly_bill(data, target_month):\n",
    "    target_start = parse_date(f\"{target_month}-01\")\n",
    "    next_month = target_start.replace(day=28) + timedelta(days=4)\n",
    "    target_end = next_month - timedelta(days=next_month.day)\n",
    "    days_in_month = (target_end - target_start).days + 1\n",
    "\n",
    "    grouped = defaultdict(lambda: {'qty': 0, 'amount': 0.0})\n",
    "\n",
    "    for entry in data:\n",
    "        item_code = entry['item_code']\n",
    "        rate = float(entry['rate'])\n",
    "        qty = int(entry['qty'])\n",
    "        start_date = parse_date(entry['start_date'])\n",
    "        stop_date = parse_date(entry['stop_date'])\n",
    "\n",
    "        billing_start = max(start_date, target_start)\n",
    "        billing_end = min(stop_date, target_end)\n",
    "\n",
    "        if billing_start <= billing_end:\n",
    "            active_days = (billing_end - billing_start).days + 1\n",
    "            daily_rate = (rate * qty) / days_in_month\n",
    "            amount = round(daily_rate * active_days, 2)\n",
    "\n",
    "            billing_period = f\"{billing_start.date()} to {billing_end.date()}\"\n",
    "            key = (item_code, rate, billing_period)\n",
    "\n",
    "            grouped[key]['qty'] += qty\n",
    "            grouped[key]['amount'] += amount\n",
    "\n",
    "    line_items, total_revenue = [], 0.0\n",
    "\n",
    "    for (item_code, rate, billing_period), values in grouped.items():\n",
    "        line_items.append({\n",
    "            \"item_code\": item_code,\n",
    "            \"rate\": rate,\n",
    "            \"qty\": values['qty'],\n",
    "            \"amount\": round(values['amount'], 2),\n",
    "            \"billing_period\": billing_period\n",
    "        })\n",
    "        total_revenue += values['amount']\n",
    "\n",
    "    return {\n",
    "        \"line_items\": line_items,\n",
    "        \"total_revenue\": round(total_revenue, 2)\n",
    "    }\n",
    "target_month = \"2024-11\"\n",
    "result = generate_monthly_bill(data, target_month)\n",
    "print(\" Monthly Billing Summary:\")\n",
    "for item in result[\"line_items\"]:\n",
    "    print(item)\n",
    "\n",
    "print(\"\\n Total Revenue:\", result[\"total_revenue\"])\n"
   ]
  },
  {
   "cell_type": "code",
   "execution_count": null,
   "id": "1c6ee375-0c1f-40a5-882c-dd15207f3ae1",
   "metadata": {},
   "outputs": [],
   "source": []
  }
 ],
 "metadata": {
  "kernelspec": {
   "display_name": "Python [conda env:base] *",
   "language": "python",
   "name": "conda-base-py"
  },
  "language_info": {
   "codemirror_mode": {
    "name": "ipython",
    "version": 3
   },
   "file_extension": ".py",
   "mimetype": "text/x-python",
   "name": "python",
   "nbconvert_exporter": "python",
   "pygments_lexer": "ipython3",
   "version": "3.12.7"
  }
 },
 "nbformat": 4,
 "nbformat_minor": 5
}
